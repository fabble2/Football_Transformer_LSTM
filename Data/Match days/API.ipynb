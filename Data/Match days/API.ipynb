{
 "cells": [
  {
   "cell_type": "code",
   "execution_count": 2,
   "metadata": {},
   "outputs": [],
   "source": [
    "#Alle Spieltage aus der Bundesliga: Wer, Halbzeit, Endergebnis"
   ]
  },
  {
   "cell_type": "code",
   "execution_count": 2,
   "metadata": {},
   "outputs": [],
   "source": [
    "import requests\n",
    "import json\n",
    "import pandas as pd\n",
    "import numpy as np"
   ]
  },
  {
   "cell_type": "code",
   "execution_count": 3,
   "metadata": {},
   "outputs": [],
   "source": [
    "#Links für alle Saisons\n",
    "response2017= requests.get(\"https://www.openligadb.de/api/getmatchdata/bl1/2017\")\n",
    "response2018= requests.get(\"https://www.openligadb.de/api/getmatchdata/bl1/2018\")\n",
    "response2016= requests.get(\"https://www.openligadb.de/api/getmatchdata/bl1/2016\")\n",
    "response2015= requests.get(\"https://www.openligadb.de/api/getmatchdata/bl1/2015\")\n",
    "response2014= requests.get(\"https://www.openligadb.de/api/getmatchdata/bl1/2014\")\n",
    "response2013= requests.get(\"https://www.openligadb.de/api/getmatchdata/bl1/2013\")\n",
    "response2019= requests.get(\"https://www.openligadb.de/api/getmatchdata/bl1/2019\")\n",
    "response2020= requests.get(\"https://www.openligadb.de/api/getmatchdata/bl1/2020\")\n"
   ]
  },
  {
   "cell_type": "code",
   "execution_count": 4,
   "metadata": {},
   "outputs": [],
   "source": [
    "#Variables for caching\n",
    "halbzeitergebnis=\"\"\n",
    "\n",
    "team1=\"\"\n",
    "team2= \"\"\n",
    "\n",
    "spieltag= \"\"\n",
    "\n",
    "zwischenergebnis=\"\"\n",
    "minute=\"\"\n",
    "spielername=\"\""
   ]
  },
  {
   "cell_type": "code",
   "execution_count": 5,
   "metadata": {},
   "outputs": [],
   "source": [
    "# -*- encoding: iso-8859-15 -*-\n",
    "\"\"\"\n",
    "input: url\n",
    "#From the api matchday, teams, results(also half), get goals\n",
    "#Saved in list\n",
    "output: list of match days\n",
    "\"\"\"\n",
    "def api(response):\n",
    "    obj= response.json()\n",
    "    text = json.dumps(obj, sort_keys=True, indent=4)\n",
    "    spieltage=[]\n",
    "    for spiel in obj:\n",
    "        torschuetze={}\n",
    "        for key, value in spiel.items() :\n",
    "            \n",
    "            #Spieltag\n",
    "            if key ==\"Group\":\n",
    "                spieltag= value[\"GroupName\"]\n",
    "                \n",
    "            #Mannschaft1\n",
    "            if key ==\"Team1\":\n",
    "                team1= value[\"TeamName\"].encode('utf-8')\n",
    "            #Mansnchaft2\n",
    "            if key ==\"Team2\":\n",
    "                team2= value[\"TeamName\"].encode('utf-8')\n",
    "\n",
    "            #Listenelement 1= End-, 2= Halbzeitergebnis\n",
    "            if key == \"MatchResults\":\n",
    "                endergebnis= str(value[0][\"PointsTeam1\"])+\":\"+str(value[0][\"PointsTeam2\"])            \n",
    "                halbzeitergebnis=str(value[1][\"PointsTeam1\"])+\":\"+str(value[1][\"PointsTeam2\"])            \n",
    "                \n",
    "            #Jedes Listenelement hat die Infos zum Tor(Spielstand,Minute,Torschuetze)\n",
    "            if key == \"Goals\":\n",
    "\n",
    "                for tor in value:\n",
    "                    zwischenergebnis= str(tor[\"ScoreTeam1\"])+\":\"+str(tor[\"ScoreTeam2\"])\n",
    "                    minute= str(tor[\"MatchMinute\"])\n",
    "                    name= u''.join(tor[\"GoalGetterName\"]).encode('utf-8')\n",
    "                    torschuetze[zwischenergebnis]= [name, minute]\n",
    "                \n",
    "        tempspiel=[spieltag[0], team1, team2,halbzeitergebnis,endergebnis,torschuetze]\n",
    "\n",
    "        spieltage.append(tempspiel)\n",
    "        \n",
    "    return spieltage\n",
    "\n",
    "#Save data in pkl\n",
    "\n",
    "zeile= [\"Spieltag\",\"Mannschaft1\",\"Mannschaft2\",\"Halbzeit\",\"Endergebnis\", \"Torschuetze\"]\n",
    "\n",
    "#saison2020= api(response2020)    \n",
    "#saison2019= api(response2019)\n",
    "\n",
    "#daten2020= pd.DataFrame(np.array(saison2020), columns=zeile)\n",
    "#daten2019= pd.DataFrame(np.array(saison2019), columns=zeile)    \n",
    "\n",
    "#daten2020.to_pickle(\"./Spiele2020.pkl\")\n",
    "#daten2019.to_pickle(\"./Spiele2019.pkl\")\n",
    "\n"
   ]
  },
  {
   "cell_type": "code",
   "execution_count": 21,
   "metadata": {},
   "outputs": [],
   "source": [
    "\"\"\"\n",
    "input: word\n",
    "Replace words (utf8 problem)\n",
    "ouput: correct word\n",
    "\"\"\"\n",
    "def replace(wort):\n",
    "    \n",
    "    #ü \n",
    "    word= wort.replace(\"\\xc3\\xbc\", \"ue\")\n",
    "    word=wort.replace(\"\\xfc\", \"ue\")\n",
    "    #ö\n",
    "    word=wort.replace(\"\\xc3\\xb6\", \"oe\")\n",
    "    word=wort.replace(\"\\xf6\", \"oe\")\n",
    "    #é\n",
    "    word=wort.replace(\"\\xc3\\xa9\", \"e\")\n",
    "    #Ö\n",
    "    word=wort.replace(\"\\xc3\\x96\", \"Oe\")\n",
    "    #ì\n",
    "    #wort.replace(\"\\xc3\\xa\", \"i\")\n",
    "    \n",
    "    return word"
   ]
  }
 ],
 "metadata": {
  "kernelspec": {
   "display_name": "Python 3 (ipykernel)",
   "language": "python",
   "name": "python3"
  },
  "language_info": {
   "codemirror_mode": {
    "name": "ipython",
    "version": 3
   },
   "file_extension": ".py",
   "mimetype": "text/x-python",
   "name": "python",
   "nbconvert_exporter": "python",
   "pygments_lexer": "ipython3",
   "version": "3.9.7"
  }
 },
 "nbformat": 4,
 "nbformat_minor": 2
}
